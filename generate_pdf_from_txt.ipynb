{
 "cells": [
  {
   "cell_type": "code",
   "execution_count": 19,
   "id": "96f6698d",
   "metadata": {},
   "outputs": [],
   "source": [
    "import os\n",
    "import re\n",
    "from pathlib import Path\n",
    "from reportlab.pdfgen import canvas\n",
    "from reportlab.pdfbase import pdfmetrics\n",
    "from reportlab.pdfbase.ttfonts import TTFont\n",
    "from reportlab.lib.units import inch\n",
    "from reportlab.lib.pagesizes import landscape, A4\n",
    "import textwrap\n",
    "\n",
    "# 设置页面参数\n",
    "PAGE_WIDTH, PAGE_HEIGHT = landscape(A4)\n",
    "FONT_SIZE_WORD = 28\n",
    "FONT_SIZE_CHINESE = 22\n",
    "LINE_SPACING = 40\n",
    "CHINESE_LINE_LIMIT = 15  # 每行最多15个中文字符"
   ]
  },
  {
   "cell_type": "code",
   "execution_count": null,
   "id": "9d5fe45c",
   "metadata": {},
   "outputs": [],
   "source": [
    "\"C:\\Users\\TJ002\\Desktop\\Work\\Learning-CLUES\\Language\\word list\\dejavu-fonts-ttf-2.37\\ttf\\DejaVuSans.ttf\""
   ]
  },
  {
   "cell_type": "code",
   "execution_count": 23,
   "id": "125b9e4e",
   "metadata": {},
   "outputs": [
    {
     "name": "stdout",
     "output_type": "stream",
     "text": [
      "✅ 英文字体: DejaVu\n",
      "✅ 中文字体: Microsoft YaHei\n"
     ]
    }
   ],
   "source": [
    "# 字体路径（修改为你解压的字体位置）\n",
    "DEJAVU_FONT_PATH = r\"C:\\Users\\TJ002\\Desktop\\Work\\Learning-CLUES\\Language\\word list\\dejavu-fonts-ttf-2.37\\ttf\\DejaVuSans.ttf\"\n",
    "DEJAVU_FONT_NAME = \"DejaVu\"\n",
    "\n",
    "# 中文优先字体列表（按系统平台推荐）\n",
    "CHINESE_FONT_CANDIDATES = [\n",
    "    \"Microsoft YaHei\", \"SimSun\",       # Windows\n",
    "    \"PingFang SC\", \"STHeiti\",          # macOS\n",
    "    \"Noto Sans CJK SC\", \"WenQuanYi Zen Hei\"  # Linux\n",
    "]\n",
    "\n",
    "# 注册 DejaVu 用于英文 + 音标\n",
    "pdfmetrics.registerFont(TTFont(DEJAVU_FONT_NAME, DEJAVU_FONT_PATH))\n",
    "print(f\"✅ 英文字体: {DEJAVU_FONT_NAME}\")\n",
    "\n",
    "# 查找并注册中文字体\n",
    "def find_chinese_font(font_list):\n",
    "    for name in font_list:\n",
    "        try:\n",
    "            path = fm.findfont(name, fallback_to_default=False)\n",
    "            if os.path.exists(path):\n",
    "                pdfmetrics.registerFont(TTFont(name, path))\n",
    "                print(f\"✅ 中文字体: {name}\")\n",
    "                return name\n",
    "        except:\n",
    "            continue\n",
    "    raise RuntimeError(\"❌ 未找到可用中文字体\")\n",
    "\n",
    "CHINESE_FONT_NAME = find_chinese_font(CHINESE_FONT_CANDIDATES)"
   ]
  },
  {
   "cell_type": "code",
   "execution_count": 24,
   "id": "f84ddad1",
   "metadata": {},
   "outputs": [],
   "source": [
    "def parse_line(line):\n",
    "    \"\"\"\n",
    "    解析格式：英文 + /音标/ + 中文释义\n",
    "    \"\"\"\n",
    "    match = re.match(r'^(.+?)\\s*/([^/]+)/\\s*(.*)$', line)\n",
    "    if not match:\n",
    "        return None\n",
    "    word_part, phonetic, chinese = match.groups()\n",
    "    word_clean = word_part.replace(\"*\", \"\").strip()\n",
    "    eng_line = f\"{word_clean}   /{phonetic}/\"\n",
    "\n",
    "    chinese_lines = []\n",
    "    for chunk in chinese.strip().split(\"；\"):\n",
    "        chunk = chunk.strip()\n",
    "        if chunk:\n",
    "            wrapped = textwrap.wrap(chunk, width=CHINESE_LINE_LIMIT)\n",
    "            chinese_lines.extend(wrapped)\n",
    "\n",
    "    return eng_line, chinese_lines\n",
    "\n",
    "def draw_centered_text(c, lines, start_y, font_name, font_size):\n",
    "    for i, line in enumerate(lines):\n",
    "        text_width = c.stringWidth(line, font_name, font_size)\n",
    "        x = (PAGE_WIDTH - text_width) / 2\n",
    "        y = start_y - i * LINE_SPACING\n",
    "        c.setFont(font_name, font_size)\n",
    "        c.drawString(x, y, line)\n",
    "\n",
    "def txt_to_pdf(txt_path, output_dir):\n",
    "    filename = Path(txt_path).stem\n",
    "    pdf_path = os.path.join(output_dir, f\"{filename}.pdf\")\n",
    "\n",
    "    with open(txt_path, 'r', encoding='utf-8') as f:\n",
    "        raw_lines = [line.strip() for line in f if line.strip()]\n",
    "\n",
    "    c = canvas.Canvas(pdf_path, pagesize=(PAGE_WIDTH, PAGE_HEIGHT))\n",
    "\n",
    "    for raw in raw_lines:\n",
    "        result = parse_line(raw)\n",
    "        if not result:\n",
    "            continue\n",
    "        eng_line, chinese_lines = result\n",
    "\n",
    "        total_height = (1 + len(chinese_lines)) * LINE_SPACING\n",
    "        start_y = (PAGE_HEIGHT + total_height) / 2 - LINE_SPACING\n",
    "\n",
    "        draw_centered_text(c, [eng_line], start_y, DEJAVU_FONT_NAME, FONT_SIZE_WORD)\n",
    "        draw_centered_text(c, chinese_lines, start_y - LINE_SPACING, CHINESE_FONT_NAME, FONT_SIZE_CHINESE)\n",
    "\n",
    "        c.showPage()\n",
    "\n",
    "    c.save()\n",
    "    print(f\"📄 已生成: {pdf_path}\")\n",
    "\n",
    "def process_all_wordlists(folder):\n",
    "    output_dir = os.path.join(folder, \"PDF_output_final_fonts\")\n",
    "    os.makedirs(output_dir, exist_ok=True)\n",
    "\n",
    "    for file in os.listdir(folder):\n",
    "        if file.startswith(\"word list\") and file.endswith(\".txt\"):\n",
    "            txt_path = os.path.join(folder, file)\n",
    "            txt_to_pdf(txt_path, output_dir)"
   ]
  },
  {
   "cell_type": "code",
   "execution_count": 28,
   "id": "f76e4cda",
   "metadata": {},
   "outputs": [
    {
     "name": "stdout",
     "output_type": "stream",
     "text": [
      "📄 已生成: C:\\Users\\TJ002\\Desktop\\Work\\Learning-CLUES\\Language\\word list\\PDF_output_final_fonts\\word list24.pdf\n",
      "📄 已生成: C:\\Users\\TJ002\\Desktop\\Work\\Learning-CLUES\\Language\\word list\\PDF_output_final_fonts\\word list25.pdf\n",
      "📄 已生成: C:\\Users\\TJ002\\Desktop\\Work\\Learning-CLUES\\Language\\word list\\PDF_output_final_fonts\\word list26.pdf\n",
      "📄 已生成: C:\\Users\\TJ002\\Desktop\\Work\\Learning-CLUES\\Language\\word list\\PDF_output_final_fonts\\word list27.pdf\n",
      "📄 已生成: C:\\Users\\TJ002\\Desktop\\Work\\Learning-CLUES\\Language\\word list\\PDF_output_final_fonts\\word list28.pdf\n",
      "📄 已生成: C:\\Users\\TJ002\\Desktop\\Work\\Learning-CLUES\\Language\\word list\\PDF_output_final_fonts\\word list29.pdf\n",
      "📄 已生成: C:\\Users\\TJ002\\Desktop\\Work\\Learning-CLUES\\Language\\word list\\PDF_output_final_fonts\\word list30.pdf\n",
      "📄 已生成: C:\\Users\\TJ002\\Desktop\\Work\\Learning-CLUES\\Language\\word list\\PDF_output_final_fonts\\word list31.pdf\n",
      "📄 已生成: C:\\Users\\TJ002\\Desktop\\Work\\Learning-CLUES\\Language\\word list\\PDF_output_final_fonts\\word list32.pdf\n",
      "📄 已生成: C:\\Users\\TJ002\\Desktop\\Work\\Learning-CLUES\\Language\\word list\\PDF_output_final_fonts\\word list33.pdf\n",
      "📄 已生成: C:\\Users\\TJ002\\Desktop\\Work\\Learning-CLUES\\Language\\word list\\PDF_output_final_fonts\\word list34.pdf\n",
      "📄 已生成: C:\\Users\\TJ002\\Desktop\\Work\\Learning-CLUES\\Language\\word list\\PDF_output_final_fonts\\word list35.pdf\n",
      "📄 已生成: C:\\Users\\TJ002\\Desktop\\Work\\Learning-CLUES\\Language\\word list\\PDF_output_final_fonts\\word list36.pdf\n",
      "📄 已生成: C:\\Users\\TJ002\\Desktop\\Work\\Learning-CLUES\\Language\\word list\\PDF_output_final_fonts\\word list37.pdf\n",
      "📄 已生成: C:\\Users\\TJ002\\Desktop\\Work\\Learning-CLUES\\Language\\word list\\PDF_output_final_fonts\\word list38.pdf\n",
      "📄 已生成: C:\\Users\\TJ002\\Desktop\\Work\\Learning-CLUES\\Language\\word list\\PDF_output_final_fonts\\word list39.pdf\n",
      "📄 已生成: C:\\Users\\TJ002\\Desktop\\Work\\Learning-CLUES\\Language\\word list\\PDF_output_final_fonts\\word list40.pdf\n",
      "📄 已生成: C:\\Users\\TJ002\\Desktop\\Work\\Learning-CLUES\\Language\\word list\\PDF_output_final_fonts\\word list41.pdf\n",
      "📄 已生成: C:\\Users\\TJ002\\Desktop\\Work\\Learning-CLUES\\Language\\word list\\PDF_output_final_fonts\\word list42.pdf\n",
      "📄 已生成: C:\\Users\\TJ002\\Desktop\\Work\\Learning-CLUES\\Language\\word list\\PDF_output_final_fonts\\word list43.pdf\n",
      "📄 已生成: C:\\Users\\TJ002\\Desktop\\Work\\Learning-CLUES\\Language\\word list\\PDF_output_final_fonts\\word list44.pdf\n",
      "📄 已生成: C:\\Users\\TJ002\\Desktop\\Work\\Learning-CLUES\\Language\\word list\\PDF_output_final_fonts\\word list45.pdf\n",
      "📄 已生成: C:\\Users\\TJ002\\Desktop\\Work\\Learning-CLUES\\Language\\word list\\PDF_output_final_fonts\\word list46.pdf\n",
      "📄 已生成: C:\\Users\\TJ002\\Desktop\\Work\\Learning-CLUES\\Language\\word list\\PDF_output_final_fonts\\word list47.pdf\n",
      "📄 已生成: C:\\Users\\TJ002\\Desktop\\Work\\Learning-CLUES\\Language\\word list\\PDF_output_final_fonts\\word list48.pdf\n"
     ]
    }
   ],
   "source": [
    "# 指定包含 \"word list*.txt\" 的文件夹路径\n",
    "folder = r\"C:\\Users\\TJ002\\Desktop\\Work\\Learning-CLUES\\Language\\word list\"\n",
    "\n",
    "# 调用处理函数\n",
    "process_all_wordlists(folder)\n"
   ]
  }
 ],
 "metadata": {
  "kernelspec": {
   "display_name": "wordpdf",
   "language": "python",
   "name": "python3"
  },
  "language_info": {
   "codemirror_mode": {
    "name": "ipython",
    "version": 3
   },
   "file_extension": ".py",
   "mimetype": "text/x-python",
   "name": "python",
   "nbconvert_exporter": "python",
   "pygments_lexer": "ipython3",
   "version": "3.10.18"
  }
 },
 "nbformat": 4,
 "nbformat_minor": 5
}
